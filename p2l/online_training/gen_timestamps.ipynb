{
 "cells": [
  {
   "cell_type": "code",
   "execution_count": 24,
   "id": "74412fcc",
   "metadata": {},
   "outputs": [],
   "source": [
    "from datasets import load_from_disk\n",
    "from collections import defaultdict, deque\n",
    "from tqdm import tqdm\n",
    "import random\n",
    "import numpy as np\n",
    "import os"
   ]
  },
  {
   "cell_type": "code",
   "execution_count": 46,
   "id": "2821ebdf",
   "metadata": {},
   "outputs": [],
   "source": [
    "val_path = '/tmp/validation_sets'\n",
    "val_timestamps = {}\n",
    "\n",
    "df = pd.read_json('/tmp/quid_to_tstamp.jsonl', lines=True)\n",
    "qid_to_tstamp = df.set_index('question_id')['tstamp'].to_dict()"
   ]
  },
  {
   "cell_type": "code",
   "execution_count": 47,
   "id": "17455f87",
   "metadata": {},
   "outputs": [
    {
     "name": "stderr",
     "output_type": "stream",
     "text": [
      "100%|██████████| 18/18 [00:02<00:00,  6.11it/s]\n"
     ]
    }
   ],
   "source": [
    "import re \n",
    "\n",
    "for file in tqdm(os.listdir(val_path)):\n",
    "    val_file = os.path.join(val_path, file)\n",
    "    val_file = pd.read_csv(val_file)\n",
    "    \n",
    "    largest = -float('inf')\n",
    "    for qid in val_file['question_id']:\n",
    "        largest = max(largest, qid_to_tstamp[qid])\n",
    "    #extract number\n",
    "    filename = \"val_set_checkpoint123.45.csv\"\n",
    "    pattern = r'val_set_checkpoint([\\d.]+)\\.csv'\n",
    "    match = re.search(pattern, file)\n",
    "    if match:\n",
    "        number = int(match.group(1))\n",
    "\n",
    "    val_timestamps[number] = {'end_tstamp': largest}"
   ]
  },
  {
   "cell_type": "code",
   "execution_count": 48,
   "id": "47e3ca58",
   "metadata": {},
   "outputs": [
    {
     "data": {
      "text/plain": [
       "{512: {'end_tstamp': 1708125221.542},\n",
       " 3072: {'end_tstamp': 1724498460.1512},\n",
       " 4096: {'end_tstamp': 1735414274.7728},\n",
       " 2816: {'end_tstamp': 1722767530.747},\n",
       " 2560: {'end_tstamp': 1720429103.0496},\n",
       " 1536: {'end_tstamp': 1714747144.1972},\n",
       " 1024: {'end_tstamp': 1712576453.2893},\n",
       " 768: {'end_tstamp': 1711155590.4434},\n",
       " 3840: {'end_tstamp': 1731814537.357},\n",
       " 1792: {'end_tstamp': 1715695574.932},\n",
       " 1280: {'end_tstamp': 1713847925.2197},\n",
       " 3328: {'end_tstamp': 1726931124.079},\n",
       " 256: {'end_tstamp': 1702532222.9369},\n",
       " 3584: {'end_tstamp': 1729025479.2321},\n",
       " 2304: {'end_tstamp': 1718442188.2462},\n",
       " 4352: {'end_tstamp': 1739545233.1431},\n",
       " 2048: {'end_tstamp': 1716848028.8731},\n",
       " 4608: {'end_tstamp': 1740076970.0635}}"
      ]
     },
     "execution_count": 48,
     "metadata": {},
     "output_type": "execute_result"
    }
   ],
   "source": [
    "val_timestamps"
   ]
  },
  {
   "cell_type": "code",
   "execution_count": 49,
   "id": "235ad30c",
   "metadata": {},
   "outputs": [],
   "source": [
    "with open('timestamps/val_timestamps.json', 'w') as file:\n",
    "    json.dump(val_timestamps, file, indent=4)"
   ]
  },
  {
   "cell_type": "code",
   "execution_count": null,
   "id": "544fb079",
   "metadata": {},
   "outputs": [],
   "source": []
  }
 ],
 "metadata": {
  "kernelspec": {
   "display_name": "lmsys",
   "language": "python",
   "name": "python3"
  },
  "language_info": {
   "codemirror_mode": {
    "name": "ipython",
    "version": 3
   },
   "file_extension": ".py",
   "mimetype": "text/x-python",
   "name": "python",
   "nbconvert_exporter": "python",
   "pygments_lexer": "ipython3",
   "version": "3.10.16"
  }
 },
 "nbformat": 4,
 "nbformat_minor": 5
}
